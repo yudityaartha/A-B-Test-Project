{
 "cells": [
  {
   "cell_type": "code",
   "execution_count": 1,
   "id": "6e03e6c1-a5fe-4bce-8c5f-9018bb75e193",
   "metadata": {},
   "outputs": [
    {
     "name": "stdout",
     "output_type": "stream",
     "text": [
      "Python: 3.13.5 | packaged by Anaconda, Inc. | (main, Jun 12 2025, 11:23:37) [Clang 14.0.6 ]\n",
      "Platform: macOS-15.5-arm64-arm-64bit-Mach-O\n",
      "NumPy: 2.1.3\n",
      "Pandas: 2.2.3\n",
      "Matplotlib: 3.10.0\n",
      "Seaborn: 0.13.2\n",
      "SciPy: 1.15.3\n",
      "Statsmodels: 0.14.4\n",
      "Random seed set to 42\n"
     ]
    }
   ],
   "source": [
    "# === Reproducibility / Environment ===\n",
    "import sys, os\n",
    "import platform\n",
    "import numpy as np\n",
    "import pandas as pd\n",
    "import matplotlib, matplotlib.pyplot as plt\n",
    "import seaborn as sns\n",
    "import scipy\n",
    "import statsmodels\n",
    "import json\n",
    "import warnings\n",
    "\n",
    "# set seed for reproducibility (for bootstrap etc.)\n",
    "seed = 42\n",
    "rng = np.random.default_rng(seed)\n",
    "n_boot=10000\n",
    "alpha=0.05 #I choose 5% significance level\n",
    "\n",
    "# display settings\n",
    "pd.set_option(\"display.precision\", 4)\n",
    "pd.set_option(\"display.max_columns\", None)\n",
    "\n",
    "# paths (use relative paths so repo is portable)\n",
    "DATA_PATH = \"AB_Test_Results.csv\"        # keep CSV in repo or provide download instructions\n",
    "RESULTS_DIR = \"results\"\n",
    "os.makedirs(RESULTS_DIR, exist_ok=True)\n",
    "\n",
    "# print environment summary for reproducibility\n",
    "print(\"Python:\", sys.version.splitlines()[0])\n",
    "print(\"Platform:\", platform.platform())\n",
    "print(\"NumPy:\", np.__version__)\n",
    "print(\"Pandas:\", pd.__version__)\n",
    "print(\"Matplotlib:\", matplotlib.__version__)\n",
    "print(\"Seaborn:\", sns.__version__)\n",
    "print(\"SciPy:\", scipy.__version__)\n",
    "print(\"Statsmodels:\", statsmodels.__version__)\n",
    "print(\"Random seed set to\", seed)\n",
    "\n",
    "# optional: note how to export requirements (run locally)\n",
    "# !pip freeze > requirements.txt"
   ]
  },
  {
   "cell_type": "markdown",
   "id": "962258bd-7613-4efd-8469-696517c44d57",
   "metadata": {
    "id": "962258bd-7613-4efd-8469-696517c44d57"
   },
   "source": [
    "# **Data exploration and hypothesis testing**"
   ]
  },
  {
   "cell_type": "markdown",
   "id": "7264feac-0840-4a2f-a428-1814fc879f53",
   "metadata": {
    "id": "7264feac-0840-4a2f-a428-1814fc879f53"
   },
   "source": [
    "\n",
    "There are a few possible ways to frame the research question for this dataset. For example:\n",
    "\n",
    "1) Do revenue from control and variant groups have different average revenue?\n",
    "\n",
    "2) Is there a relationship between control and variant groups on their different average revenue?"
   ]
  },
  {
   "cell_type": "markdown",
   "id": "c2ab0a04-3f99-4161-b40c-247e8868556e",
   "metadata": {
    "id": "c2ab0a04-3f99-4161-b40c-247e8868556e"
   },
   "source": [
    "### **1. Imports and Data Loading**"
   ]
  },
  {
   "cell_type": "markdown",
   "id": "9e85603c-26d0-4a61-b5c8-83f759b7ae96",
   "metadata": {
    "id": "9e85603c-26d0-4a61-b5c8-83f759b7ae96"
   },
   "source": [
    "Import packages and libraries needed to compute descriptive statistics and conduct a hypothesis test."
   ]
  },
  {
   "cell_type": "code",
   "execution_count": 2,
   "id": "253d06ed-afc7-452e-af53-6d644ba90399",
   "metadata": {
    "id": "253d06ed-afc7-452e-af53-6d644ba90399"
   },
   "outputs": [],
   "source": [
    "# Import packages for data manipulation\n",
    "import pandas as pd\n",
    "import numpy as np\n",
    "\n",
    "# Import packages for data visualization\n",
    "import matplotlib.pyplot as plt\n",
    "import seaborn as sns\n",
    "\n",
    "# Import packages for statistical analysis/hypothesis testing\n",
    "from scipy import stats"
   ]
  },
  {
   "cell_type": "code",
   "execution_count": 3,
   "id": "215ad99e-2d91-4f42-91bc-50218e5d92b7",
   "metadata": {
    "id": "215ad99e-2d91-4f42-91bc-50218e5d92b7"
   },
   "outputs": [],
   "source": [
    "# Load dataset into dataframe\n",
    "data = pd.read_csv(\"AB_Test_Results.csv\")"
   ]
  },
  {
   "cell_type": "code",
   "execution_count": 4,
   "id": "9417ddcc-026c-488f-b595-c3327dd0b0e9",
   "metadata": {
    "id": "9417ddcc-026c-488f-b595-c3327dd0b0e9",
    "outputId": "fe9e172e-cd6f-47d2-c0d9-ad4f9b4b2e22"
   },
   "outputs": [
    {
     "data": {
      "text/html": [
       "<div>\n",
       "<style scoped>\n",
       "    .dataframe tbody tr th:only-of-type {\n",
       "        vertical-align: middle;\n",
       "    }\n",
       "\n",
       "    .dataframe tbody tr th {\n",
       "        vertical-align: top;\n",
       "    }\n",
       "\n",
       "    .dataframe thead th {\n",
       "        text-align: right;\n",
       "    }\n",
       "</style>\n",
       "<table border=\"1\" class=\"dataframe\">\n",
       "  <thead>\n",
       "    <tr style=\"text-align: right;\">\n",
       "      <th></th>\n",
       "      <th>USER_ID</th>\n",
       "      <th>VARIANT_NAME</th>\n",
       "      <th>REVENUE</th>\n",
       "    </tr>\n",
       "  </thead>\n",
       "  <tbody>\n",
       "    <tr>\n",
       "      <th>0</th>\n",
       "      <td>737</td>\n",
       "      <td>variant</td>\n",
       "      <td>0.0</td>\n",
       "    </tr>\n",
       "    <tr>\n",
       "      <th>1</th>\n",
       "      <td>2423</td>\n",
       "      <td>control</td>\n",
       "      <td>0.0</td>\n",
       "    </tr>\n",
       "    <tr>\n",
       "      <th>2</th>\n",
       "      <td>9411</td>\n",
       "      <td>control</td>\n",
       "      <td>0.0</td>\n",
       "    </tr>\n",
       "    <tr>\n",
       "      <th>3</th>\n",
       "      <td>7311</td>\n",
       "      <td>control</td>\n",
       "      <td>0.0</td>\n",
       "    </tr>\n",
       "    <tr>\n",
       "      <th>4</th>\n",
       "      <td>6174</td>\n",
       "      <td>variant</td>\n",
       "      <td>0.0</td>\n",
       "    </tr>\n",
       "  </tbody>\n",
       "</table>\n",
       "</div>"
      ],
      "text/plain": [
       "   USER_ID VARIANT_NAME  REVENUE\n",
       "0      737      variant      0.0\n",
       "1     2423      control      0.0\n",
       "2     9411      control      0.0\n",
       "3     7311      control      0.0\n",
       "4     6174      variant      0.0"
      ]
     },
     "execution_count": 4,
     "metadata": {},
     "output_type": "execute_result"
    }
   ],
   "source": [
    "data.head()"
   ]
  },
  {
   "cell_type": "code",
   "execution_count": 5,
   "id": "9610e317-3659-43d7-a7bd-f707ea109d58",
   "metadata": {
    "id": "9610e317-3659-43d7-a7bd-f707ea109d58",
    "outputId": "9cf1736d-f63d-4905-d86a-1a2c3899407c"
   },
   "outputs": [
    {
     "name": "stdout",
     "output_type": "stream",
     "text": [
      "The data size is : 30000\n",
      "With total of columns are 3 columns and total of rows are 10000 rows.\n"
     ]
    }
   ],
   "source": [
    "print(\"The data size is : \" + str(data.size))\n",
    "print(\"With total of columns are \" + str(data.shape[1]) + \" columns and total of rows are \" + str(data.shape[0]) + \" rows.\")"
   ]
  },
  {
   "cell_type": "markdown",
   "id": "07624ce0-dfb5-45f5-b5f1-eaf30f013fb7",
   "metadata": {
    "id": "07624ce0-dfb5-45f5-b5f1-eaf30f013fb7"
   },
   "source": [
    "### **2. Checking Nulls**"
   ]
  },
  {
   "cell_type": "code",
   "execution_count": 6,
   "id": "409d7668-ec62-4419-9e3f-fb5aa777e307",
   "metadata": {
    "id": "409d7668-ec62-4419-9e3f-fb5aa777e307",
    "outputId": "66d6e889-f141-4da0-a983-064d5dc7c096",
    "scrolled": true
   },
   "outputs": [
    {
     "data": {
      "text/html": [
       "<div>\n",
       "<style scoped>\n",
       "    .dataframe tbody tr th:only-of-type {\n",
       "        vertical-align: middle;\n",
       "    }\n",
       "\n",
       "    .dataframe tbody tr th {\n",
       "        vertical-align: top;\n",
       "    }\n",
       "\n",
       "    .dataframe thead th {\n",
       "        text-align: right;\n",
       "    }\n",
       "</style>\n",
       "<table border=\"1\" class=\"dataframe\">\n",
       "  <thead>\n",
       "    <tr style=\"text-align: right;\">\n",
       "      <th></th>\n",
       "      <th>USER_ID</th>\n",
       "      <th>REVENUE</th>\n",
       "    </tr>\n",
       "  </thead>\n",
       "  <tbody>\n",
       "    <tr>\n",
       "      <th>count</th>\n",
       "      <td>10000.0000</td>\n",
       "      <td>10000.0000</td>\n",
       "    </tr>\n",
       "    <tr>\n",
       "      <th>mean</th>\n",
       "      <td>4981.0802</td>\n",
       "      <td>0.0994</td>\n",
       "    </tr>\n",
       "    <tr>\n",
       "      <th>std</th>\n",
       "      <td>2890.5901</td>\n",
       "      <td>2.3185</td>\n",
       "    </tr>\n",
       "    <tr>\n",
       "      <th>min</th>\n",
       "      <td>2.0000</td>\n",
       "      <td>0.0000</td>\n",
       "    </tr>\n",
       "    <tr>\n",
       "      <th>25%</th>\n",
       "      <td>2468.7500</td>\n",
       "      <td>0.0000</td>\n",
       "    </tr>\n",
       "    <tr>\n",
       "      <th>50%</th>\n",
       "      <td>4962.0000</td>\n",
       "      <td>0.0000</td>\n",
       "    </tr>\n",
       "    <tr>\n",
       "      <th>75%</th>\n",
       "      <td>7511.5000</td>\n",
       "      <td>0.0000</td>\n",
       "    </tr>\n",
       "    <tr>\n",
       "      <th>max</th>\n",
       "      <td>10000.0000</td>\n",
       "      <td>196.0100</td>\n",
       "    </tr>\n",
       "  </tbody>\n",
       "</table>\n",
       "</div>"
      ],
      "text/plain": [
       "          USER_ID     REVENUE\n",
       "count  10000.0000  10000.0000\n",
       "mean    4981.0802      0.0994\n",
       "std     2890.5901      2.3185\n",
       "min        2.0000      0.0000\n",
       "25%     2468.7500      0.0000\n",
       "50%     4962.0000      0.0000\n",
       "75%     7511.5000      0.0000\n",
       "max    10000.0000    196.0100"
      ]
     },
     "execution_count": 6,
     "metadata": {},
     "output_type": "execute_result"
    }
   ],
   "source": [
    "## A glimpse of decriptive analytics in the dataset\n",
    "data.describe()"
   ]
  },
  {
   "cell_type": "markdown",
   "id": "1faf689f-fb0d-4823-bf3f-1afea071faf2",
   "metadata": {
    "id": "1faf689f-fb0d-4823-bf3f-1afea071faf2"
   },
   "source": [
    "From the result above we see there is no null value from all of the three columns (all the total count is 10000 records)  \n",
    "But let's do another double check, if there are nulls then there should be total record of nulls on the result of this query"
   ]
  },
  {
   "cell_type": "code",
   "execution_count": 7,
   "id": "c96cd299-e974-4404-b44c-2d2f2014bccc",
   "metadata": {
    "id": "c96cd299-e974-4404-b44c-2d2f2014bccc",
    "outputId": "8aa0a1ac-64b0-4a71-9b8d-5bb22a86d431"
   },
   "outputs": [
    {
     "data": {
      "text/plain": [
       "USER_ID         0\n",
       "VARIANT_NAME    0\n",
       "REVENUE         0\n",
       "dtype: int64"
      ]
     },
     "execution_count": 7,
     "metadata": {},
     "output_type": "execute_result"
    }
   ],
   "source": [
    "data.isna().sum()"
   ]
  },
  {
   "cell_type": "markdown",
   "id": "03611192-da52-430d-bc2c-cd289f7abb31",
   "metadata": {
    "id": "03611192-da52-430d-bc2c-cd289f7abb31"
   },
   "source": [
    "All set, no nulls value exist within the dataset."
   ]
  },
  {
   "cell_type": "code",
   "execution_count": 8,
   "id": "83b13186-1b04-48bf-9bab-69f007ce79ce",
   "metadata": {},
   "outputs": [],
   "source": [
    "# Normalize labels into lowscript\n",
    "data['VARIANT_NAME'] = data['VARIANT_NAME'].str.strip().str.lower()"
   ]
  },
  {
   "cell_type": "markdown",
   "id": "05c412c1-c96f-407e-8f93-230bbfc64c3b",
   "metadata": {
    "id": "05c412c1-c96f-407e-8f93-230bbfc64c3b"
   },
   "source": [
    "****"
   ]
  },
  {
   "cell_type": "markdown",
   "id": "e997f962-5668-4243-8b9f-c1616d8f1dd0",
   "metadata": {
    "id": "e997f962-5668-4243-8b9f-c1616d8f1dd0"
   },
   "source": [
    "### **3. Perform Exploratory Data Analysis (EDA)**"
   ]
  },
  {
   "cell_type": "markdown",
   "id": "4a5c55d3-55c5-4fef-a561-b3d6817f180c",
   "metadata": {
    "id": "4a5c55d3-55c5-4fef-a561-b3d6817f180c"
   },
   "source": [
    "Fom the data.describe() result on **Task 2**, we can see the dataset is heavily skewed and has outliers.   \n",
    "For example if we assess the revenue column:\n",
    "1. The average value is 0,099\n",
    "2. But, the median is 0\n",
    "3. The 75% percentile is 0\n",
    "4. But the max_value = 196  \n",
    "\n",
    "It seems the revenue column has a lot of 0 values which suggests many of users did not make a purchase (revenue = 0). Thus, leading to a heavily zero-inflated distribution.  \n",
    "*We need to have better understanding of the data distribution to confirm this assumption*"
   ]
  },
  {
   "cell_type": "markdown",
   "id": "0bea286f-6396-4d7e-9f83-64b406480768",
   "metadata": {
    "id": "0bea286f-6396-4d7e-9f83-64b406480768"
   },
   "source": [
    "##### **3a. Measure the data skewness**"
   ]
  },
  {
   "cell_type": "code",
   "execution_count": 9,
   "id": "9956fc59-3ab0-4ae7-bea3-f79db86134ca",
   "metadata": {
    "id": "9956fc59-3ab0-4ae7-bea3-f79db86134ca",
    "outputId": "e6e93ef3-5971-4e4e-a40b-90dfe5d90267"
   },
   "outputs": [
    {
     "name": "stdout",
     "output_type": "stream",
     "text": [
      "Skewness: 64.98\n",
      "Shapiro-Wilk Test p-value: 8.963551861875658e-115\n"
     ]
    },
    {
     "name": "stderr",
     "output_type": "stream",
     "text": [
      "/opt/anaconda3/lib/python3.13/site-packages/scipy/stats/_axis_nan_policy.py:586: UserWarning: scipy.stats.shapiro: For N > 5000, computed p-value may not be accurate. Current N is 10000.\n",
      "  res = hypotest_fun_out(*samples, **kwds)\n"
     ]
    }
   ],
   "source": [
    "# Calculate the revenue skewness\n",
    "print(\"Skewness:\", \"{:1.2f}\".format(data[\"REVENUE\"].skew()))\n",
    "from scipy.stats import shapiro\n",
    "\n",
    "stat, p = shapiro(data[\"REVENUE\"])\n",
    "print(f\"Shapiro-Wilk Test p-value: {p}\")"
   ]
  },
  {
   "cell_type": "markdown",
   "id": "c20f1ade-93c9-4e43-a6f3-5f28f762ebfc",
   "metadata": {
    "id": "c20f1ade-93c9-4e43-a6f3-5f28f762ebfc"
   },
   "source": [
    "Skewness measures how asymmetric a distribution is. A perfectly symmetric distribution has skewness ≈ 0.  Rules of thumb (skewness) categorization:  \n",
    "1. (-0.5, 0.5) —> low or approximately symmetric\n",
    "2. (-1, -0.5) or (0.5, 1) —> moderately skewed.\n",
    "3. Beyond -1 and 1 —> Highly skewed.  \n",
    "  \n",
    "For this dataset, the revenue is extremely positive skewed (right-tail skew) because their **skewness is  64,98**"
   ]
  },
  {
   "cell_type": "markdown",
   "id": "8b0cba10-2409-4782-a38c-241cb400eb2f",
   "metadata": {
    "id": "8b0cba10-2409-4782-a38c-241cb400eb2f"
   },
   "source": [
    "The null-hypothesis of Shapiro-Wilk test is the population is normally distributed. Large data (10k data points) makes normality tests hypersensitive, therefore I also include data distribution to visualize data skewness.  \n",
    "If the p value is less than the chosen alpha level (0.05), then the null hypothesis is rejected and there is evidence that the data tested are not normally distributed.  \n",
    "Since the **p-value is (8,96 x 10-15) < 0.05**, it is confirmed the data is not normally distributed. Thus comparing the mean between control and variant group to conduct A/B test might yield inaccurate conclusion."
   ]
  },
  {
   "cell_type": "markdown",
   "id": "734a01e3-6b43-4cfe-b597-082b544be8d1",
   "metadata": {
    "id": "734a01e3-6b43-4cfe-b597-082b544be8d1"
   },
   "source": [
    "##### **3b. Visualize data distribution**"
   ]
  },
  {
   "cell_type": "code",
   "execution_count": 10,
   "id": "8ea3a446-676e-49ca-83f2-a6ffb7f3956b",
   "metadata": {
    "id": "8ea3a446-676e-49ca-83f2-a6ffb7f3956b",
    "outputId": "b0f17e31-4e07-48da-f62e-3b320020b205"
   },
   "outputs": [
    {
     "data": {
      "text/plain": [
       "<Axes: xlabel='REVENUE', ylabel='Count'>"
      ]
     },
     "execution_count": 10,
     "metadata": {},
     "output_type": "execute_result"
    },
    {
     "data": {
      "image/png": "[encoded data removed]",
      "text/plain": [
       "<Figure size 640x480 with 1 Axes>"
      ]
     },
     "metadata": {},
     "output_type": "display_data"
    }
   ],
   "source": [
    "#visualize data distribution\n",
    "sns.histplot(data[\"REVENUE\"], kde=False)"
   ]
  },
  {
   "cell_type": "code",
   "execution_count": 11,
   "id": "04c84307-f030-47f6-9b06-a11ca0e48a4c",
   "metadata": {
    "id": "04c84307-f030-47f6-9b06-a11ca0e48a4c",
    "outputId": "d4cf7719-c7de-4b77-dd9c-df433c25dbe4"
   },
   "outputs": [
    {
     "name": "stdout",
     "output_type": "stream",
     "text": [
      "REVENUE\n",
      "0.0    98.48\n",
      "Name: count, dtype: float64\n",
      "0.2\n"
     ]
    }
   ],
   "source": [
    "print(data[data[\"REVENUE\"]==0][\"REVENUE\"].value_counts().head()/data.shape[0]*100)\n",
    "print((data[(data[\"REVENUE\"]>0) & (data[\"REVENUE\"]<1)][\"REVENUE\"].value_counts()/data.shape[0] * 100).sum())"
   ]
  },
  {
   "cell_type": "markdown",
   "id": "99eaad92-a2c3-40df-a513-268bdbcf8f6e",
   "metadata": {
    "id": "99eaad92-a2c3-40df-a513-268bdbcf8f6e"
   },
   "source": [
    "*Surprisingly 98,48% of the users generate 0 revenue and 0,2% users gives near zero (0 - 1) revenue. Which indicates, only 1.5% users generate  revenue that value >= 1*"
   ]
  },
  {
   "cell_type": "code",
   "execution_count": 12,
   "id": "02bb26c8-5457-4fae-8ea8-67ae81b833a6",
   "metadata": {
    "id": "02bb26c8-5457-4fae-8ea8-67ae81b833a6",
    "outputId": "20b0917b-c99f-4ee9-c34d-8b5e11fba318"
   },
   "outputs": [
    {
     "data": {
      "text/plain": [
       "<Axes: title={'center': 'Revenue of variant and control group'}, xlabel='VARIANT_NAME', ylabel='REVENUE'>"
      ]
     },
     "execution_count": 12,
     "metadata": {},
     "output_type": "execute_result"
    },
    {
     "data": {
      "image/png": "[encoded data removed]",
      "text/plain": [
       "<Figure size 640x480 with 1 Axes>"
      ]
     },
     "metadata": {},
     "output_type": "display_data"
    }
   ],
   "source": [
    "# Create the boxplot of the data\n",
    "plt.title('Revenue of variant and control group')\n",
    "sns.boxplot(data=data, x=\"VARIANT_NAME\", y=\"REVENUE\")"
   ]
  },
  {
   "cell_type": "markdown",
   "id": "92ab7b96-d2e7-4f44-82ab-abfd3da71ac5",
   "metadata": {
    "id": "92ab7b96-d2e7-4f44-82ab-abfd3da71ac5"
   },
   "source": [
    "Outliers are dominant and unavoidable. Both control and variant have high-value users and the box (IQR) is basically accumulated on 0."
   ]
  },
  {
   "cell_type": "code",
   "execution_count": 13,
   "id": "3f1765f6-39f0-4f77-95e6-13606670cbcf",
   "metadata": {
    "id": "3f1765f6-39f0-4f77-95e6-13606670cbcf",
    "outputId": "b63d0826-2ca0-4cc7-8ec9-651b209af554"
   },
   "outputs": [
    {
     "data": {
      "image/png": "[encoded data removed]",
      "text/plain": [
       "<Figure size 1200x500 with 2 Axes>"
      ]
     },
     "metadata": {},
     "output_type": "display_data"
    },
    {
     "name": "stdout",
     "output_type": "stream",
     "text": [
      "VARIANT_NAME  REVENUE\n",
      "control       0.0        49.04\n",
      "variant       0.0        49.44\n",
      "Name: count, dtype: float64\n"
     ]
    }
   ],
   "source": [
    "fig, axes = plt.subplots(1, 2, figsize=(12, 5), sharey=True)\n",
    "\n",
    "# Control group\n",
    "sns.histplot(\n",
    "    data=data[data[\"VARIANT_NAME\"] == \"control\"],\n",
    "    x=\"REVENUE\", bins=np.arange(0, 251, 10), ax=axes[0], color=\"skyblue\")\n",
    "axes[0].set_title(\"Control Group Revenue Distribution\")\n",
    "axes[0].set_xlabel(\"Revenue\")\n",
    "axes[0].set_ylabel(\"Count\")\n",
    "\n",
    "# Variant group\n",
    "sns.histplot(\n",
    "    data=data[data[\"VARIANT_NAME\"] == \"variant\"],\n",
    "    x=\"REVENUE\", bins=np.arange(0, 251, 10), ax=axes[1], color=\"salmon\")\n",
    "axes[1].set_title(\"Variant Group Revenue Distribution\")\n",
    "axes[1].set_xlabel(\"Revenue\")\n",
    "axes[1].set_ylabel(\"\")\n",
    "\n",
    "plt.tight_layout()\n",
    "plt.show()\n",
    "\n",
    "print(data[data[\"REVENUE\"]==0].groupby('VARIANT_NAME')[\"REVENUE\"].value_counts().head()/data.shape[0]*100)"
   ]
  },
  {
   "cell_type": "markdown",
   "id": "bc802eb1-b550-4dfa-a34a-d00ee8d44e79",
   "metadata": {
    "id": "bc802eb1-b550-4dfa-a34a-d00ee8d44e79"
   },
   "source": [
    "The entire distribution is jammed near zero, and the y-axis shoots up aproximately to 5,000 record counts for both groups."
   ]
  },
  {
   "cell_type": "markdown",
   "id": "e4d3fe9f-2520-4af2-8bb1-854cc7535a71",
   "metadata": {
    "id": "e4d3fe9f-2520-4af2-8bb1-854cc7535a71"
   },
   "source": [
    "##### **3c. Insights from EDA processs**\n",
    "1. Almost all users (98,5% of records) generate zero revenue and 0,2% users generate near-zero revenue\n",
    "3. Almost ~49% users of total users from each group generate zero revenue\n",
    "4. Although the revenue distribution contains extreme outliers, these likely represent high-value customers"
   ]
  },
  {
   "cell_type": "code",
   "execution_count": 14,
   "id": "3051b396-231e-4f97-a2e3-639986e4589c",
   "metadata": {},
   "outputs": [],
   "source": [
    "# === Helper functions: effect sizes, bootstrap CI, saving ===\n",
    "import math\n",
    "from scipy.stats import mannwhitneyu\n",
    "from statsmodels.stats.proportion import proportions_ztest\n",
    "\n",
    "def bootstrap_median_ci(x, n_boot=n_boot, alpha=alpha, seed=seed):\n",
    "    \"\"\"Return (lo, hi) bootstrap CI for median from 1D iterable x.\"\"\"\n",
    "    x = np.array(x)\n",
    "    rng = np.random.default_rng(seed)\n",
    "    boots = rng.choice(x, size=(n_boot, len(x)), replace=True)\n",
    "    medians = np.median(boots, axis=1)\n",
    "    lo = np.percentile(medians, 100*(alpha/2))\n",
    "    hi = np.percentile(medians, 100*(1-alpha/2))\n",
    "    return lo, hi\n",
    "\n",
    "def prop_diff_ci(counts, nobs, alpha=0.05):\n",
    "    \"\"\"Approx normal CI for difference in proportions (p2 - p1). \n",
    "    counts = [c1, c2], nobs = [n1, n2] where group order must match your usage.\"\"\"\n",
    "    c1, c2 = counts\n",
    "    n1, n2 = nobs\n",
    "    p1 = c1 / n1\n",
    "    p2 = c2 / n2\n",
    "    diff = p2 - p1\n",
    "    se = math.sqrt(p1*(1-p1)/n1 + p2*(1-p2)/n2)\n",
    "    z = 1.96  # 95% CI\n",
    "    return diff, diff - z*se, diff + z*se\n",
    "\n",
    "def rank_biserial_from_U(U, n1, n2):\n",
    "    \"\"\"Rank-biserial effect size from Mann-Whitney U.\"\"\"\n",
    "    # formula 1 - 2U/(n1*n2)\n",
    "    return 1 - (2*U) / (n1 * n2)\n",
    "\n",
    "def save_fig(fig, filename, dpi=150):\n",
    "    \"\"\"Save matplotlib figure to results dir.\"\"\"\n",
    "    path = os.path.join(RESULTS_DIR, filename)\n",
    "    fig.savefig(path, bbox_inches=\"tight\", dpi=dpi)\n",
    "    print(\"Saved:\", path)\n",
    "    return path"
   ]
  },
  {
   "cell_type": "markdown",
   "id": "00bdbf90-a4f5-49d3-a605-bcad0b3d8f67",
   "metadata": {
    "id": "00bdbf90-a4f5-49d3-a605-bcad0b3d8f67"
   },
   "source": [
    "****"
   ]
  },
  {
   "cell_type": "markdown",
   "id": "41c31ad8-aeaa-458d-a18e-8037df9d2333",
   "metadata": {
    "id": "41c31ad8-aeaa-458d-a18e-8037df9d2333"
   },
   "source": [
    "### **4. How different are zero vs non-zero revenue users?**"
   ]
  },
  {
   "cell_type": "code",
   "execution_count": 15,
   "id": "5d8caad9-91ba-4c9e-8097-cea31617ac8c",
   "metadata": {
    "id": "412715fc-9b33-4c31-8445-8ebef507b4e2",
    "outputId": "7a9c7164-88e2-4d3c-91e4-b0dd65bb0f72"
   },
   "outputs": [
    {
     "data": {
      "text/html": [
       "<div>\n",
       "<style scoped>\n",
       "    .dataframe tbody tr th:only-of-type {\n",
       "        vertical-align: middle;\n",
       "    }\n",
       "\n",
       "    .dataframe tbody tr th {\n",
       "        vertical-align: top;\n",
       "    }\n",
       "\n",
       "    .dataframe thead th {\n",
       "        text-align: right;\n",
       "    }\n",
       "</style>\n",
       "<table border=\"1\" class=\"dataframe\">\n",
       "  <thead>\n",
       "    <tr style=\"text-align: right;\">\n",
       "      <th></th>\n",
       "      <th>avg_ovr_revenue</th>\n",
       "      <th>median_ovr_revenue</th>\n",
       "      <th>avg_paid_revenue</th>\n",
       "      <th>median_paid_revenue</th>\n",
       "    </tr>\n",
       "    <tr>\n",
       "      <th>VARIANT_NAME</th>\n",
       "      <th></th>\n",
       "      <th></th>\n",
       "      <th></th>\n",
       "      <th></th>\n",
       "    </tr>\n",
       "  </thead>\n",
       "  <tbody>\n",
       "    <tr>\n",
       "      <th>control</th>\n",
       "      <td>0.1290</td>\n",
       "      <td>0.0</td>\n",
       "      <td>8.0375</td>\n",
       "      <td>2.96</td>\n",
       "    </tr>\n",
       "    <tr>\n",
       "      <th>variant</th>\n",
       "      <td>0.0701</td>\n",
       "      <td>0.0</td>\n",
       "      <td>4.8815</td>\n",
       "      <td>2.17</td>\n",
       "    </tr>\n",
       "  </tbody>\n",
       "</table>\n",
       "</div>"
      ],
      "text/plain": [
       "              avg_ovr_revenue  median_ovr_revenue  avg_paid_revenue  \\\n",
       "VARIANT_NAME                                                          \n",
       "control                0.1290                 0.0            8.0375   \n",
       "variant                0.0701                 0.0            4.8815   \n",
       "\n",
       "              median_paid_revenue  \n",
       "VARIANT_NAME                       \n",
       "control                      2.96  \n",
       "variant                      2.17  "
      ]
     },
     "execution_count": 15,
     "metadata": {},
     "output_type": "execute_result"
    }
   ],
   "source": [
    "ovr_avg_median = data.groupby(\"VARIANT_NAME\")[\"REVENUE\"].agg(['mean','median']) # this include all the zero revenue\n",
    "paid_avg_median = data[data[\"REVENUE\"]>0].groupby(\"VARIANT_NAME\")[\"REVENUE\"].agg(['mean','median']) # this include  only non zero revenue\n",
    "\n",
    "summary = pd.merge(ovr_avg_median, paid_avg_median, on = \"VARIANT_NAME\")\n",
    "summary.columns = [\"avg_ovr_revenue\", \"median_ovr_revenue\", \"avg_paid_revenue\",\"median_paid_revenue\"]\n",
    "summary"
   ]
  },
  {
   "cell_type": "code",
   "execution_count": 16,
   "id": "19aaef62-1d3d-40d0-b2ac-c8dee25b062d",
   "metadata": {
    "jupyter": {
     "source_hidden": true
    }
   },
   "outputs": [
    {
     "name": "stdout",
     "output_type": "stream",
     "text": [
      "Result Summary:\n",
      "The average overall revenue difference of both group is: 0.06\n",
      "The overall paid revenue difference of both group is: 3.16\n",
      "The median paid revenue difference of both group is: 0.79\n",
      "The median of overall revenue are equally 0\n"
     ]
    }
   ],
   "source": [
    "print(\"Result Summary:\")\n",
    "print(\"The average overall revenue difference of both group is:\", \"{:.2f}\".format(summary.iloc[0,0] - summary.iloc[1,0]))\n",
    "print(\"The overall paid revenue difference of both group is:\", \"{:.2f}\".format(summary.iloc[0,2] - summary.iloc[1,2]))\n",
    "print(\"The median paid revenue difference of both group is:\", \"{:.2f}\".format(summary.iloc[0,3] - summary.iloc[1,3]))\n",
    "print(\"The median of overall revenue are equally 0\")"
   ]
  },
  {
   "cell_type": "code",
   "execution_count": 17,
   "id": "607aab45-f62b-4309-abbf-9cd10c32decb",
   "metadata": {},
   "outputs": [
    {
     "name": "stdout",
     "output_type": "stream",
     "text": [
      "ARPU:\n",
      " \n",
      " VARIANT_NAME\n",
      "control    0.1290\n",
      "variant    0.0701\n",
      "Name: REVENUE, dtype: float64 \n",
      "==============================\n",
      "AOV (payers):\n",
      " \n",
      " VARIANT_NAME\n",
      "control    8.0375\n",
      "variant    4.8815\n",
      "Name: REVENUE, dtype: float64\n"
     ]
    }
   ],
   "source": [
    "#Summary of ARPU and AOV\n",
    "arpu = data.groupby('VARIANT_NAME')['REVENUE'].mean() # ARPU = average revenue per user (includes zeros)\n",
    "\n",
    "aov = data[data['REVENUE']>0].groupby('VARIANT_NAME')['REVENUE'].mean() # AOV = average order value (only payers)\n",
    "print(\"ARPU:\\n\", \"\\n\",arpu,\"\\n==============================\")\n",
    "print(\"AOV (payers):\\n\", \"\\n\", aov)"
   ]
  },
  {
   "cell_type": "markdown",
   "id": "cf345d7f-c1a7-4317-8eb0-5bffcdc08001",
   "metadata": {
    "id": "cf345d7f-c1a7-4317-8eb0-5bffcdc08001"
   },
   "source": [
    "### **5. Determining statistical test to use**\n",
    "\n",
    "Before selecting a statistical test, a researcher has to simply answer the following six questions, which will lead to correct choice of test.  \n",
    "\n",
    "1. How many independent variables (IV) covary (vary in the same time period) with the dependent variable? **One variable IV, the variant name**\n",
    "2. At what level of measurement is the independent variable (IV)? The IV is variant name, which consist **two category (or binary)**\n",
    "3. What is the level of measurement of the dependent variable (DV)?\n",
    "   The DV is revenue value which **continuous**  \n",
    "4. Are the observations **independent** or **dependent**? Control and variant group are **Independent** to each other\n",
    "5. Do the comparisons involve populations to populations, a sample to a population, or are two or more samples compared? A/B Test is comparing **two sample** scenario (control and variant).\n",
    "6. Is the hypothesis being tested **comparative** or **relationship**? **Comparative**, we compare of control or variant group performs differently\n",
    "   \n",
    "Unpaired 2  sample t - test mean checked all the requirements above. ***However...*** since the revenue data distribution is *highly positive skewed*, ***proportion Z test*** or ***Mann-Whitney U test*** is much more suitable to use.\n",
    "\n",
    "Reference: Parab, S., & Bhalerao, S. (2010). Choosing the correct statistical test: A decision-making flowchart. *International Journal of Hygiene and Environmental Health*, [volume(issue)], pages. https://www.ncbi.nlm.nih.gov/pmc/articles/PMC2996580/ PMID:21170214"
   ]
  },
  {
   "cell_type": "markdown",
   "id": "b0b06353-7efd-4879-a6f2-01d131c1d4ab",
   "metadata": {
    "id": "b0b06353-7efd-4879-a6f2-01d131c1d4ab"
   },
   "source": [
    "### **5. Hypothesis Testing - Is there a relationship between control and variant groups?**"
   ]
  },
  {
   "cell_type": "markdown",
   "id": "5602e236-896c-4f4b-9478-5a01c47b5b3a",
   "metadata": {},
   "source": [
    "#### 5a. Segmentation of the users\n",
    "Let’s break the population into:\n",
    "1. Non-converters user : Revenue = 0\n",
    "2. Converters user: Revenue > 0"
   ]
  },
  {
   "cell_type": "code",
   "execution_count": 18,
   "id": "294d7d73-7467-4a39-b504-8ac512653a63",
   "metadata": {
    "id": "294d7d73-7467-4a39-b504-8ac512653a63",
    "outputId": "708f35f2-f2d0-405d-80db-e4bd7adf941c"
   },
   "outputs": [
    {
     "name": "stdout",
     "output_type": "stream",
     "text": [
      "      USER_ID VARIANT_NAME  REVENUE  paid\n",
      "13       2529      variant     2.15  True\n",
      "49       6429      control     3.25  True\n",
      "139      3331      variant     4.27  True\n",
      "149      8110      variant     1.75  True\n",
      "152      8607      control     2.99  True\n",
      "...       ...          ...      ...   ...\n",
      "9651     9928      variant     1.25  True\n",
      "9711     6468      control     2.93  True\n",
      "9724     5205      control    14.17  True\n",
      "9725      702      variant     2.92  True\n",
      "9977     4678      variant     1.01  True\n",
      "\n",
      "[152 rows x 4 columns]\n",
      "Data type is bool, total converter users are 152 and the total records are 10000\n"
     ]
    }
   ],
   "source": [
    "data['paid'] = data['REVENUE'] > 0 #adding boolean paid column\n",
    "print(data[data['paid'] == True])\n",
    "print(f\"Data type is {data['paid'].dtype}, total converter users are {data['paid'].sum()} and the total records are {len(data)}\")"
   ]
  },
  {
   "cell_type": "markdown",
   "id": "731b0d8e-cc7f-479e-ba6a-4304c9d7b87f",
   "metadata": {
    "id": "731b0d8e-cc7f-479e-ba6a-4304c9d7b87f"
   },
   "source": [
    "**Out of 10000 records, only 152 users that has revenue > 0**\n"
   ]
  },
  {
   "cell_type": "code",
   "execution_count": 19,
   "id": "cfad29f7-9854-4b69-887f-93ed5b02086a",
   "metadata": {},
   "outputs": [
    {
     "data": {
      "text/plain": [
       "<Axes: xlabel='VARIANT_NAME', ylabel='REVENUE'>"
      ]
     },
     "execution_count": 19,
     "metadata": {},
     "output_type": "execute_result"
    },
    {
     "data": {
      "image/png": "[encoded data removed]",
      "text/plain": [
       "<Figure size 640x480 with 1 Axes>"
      ]
     },
     "metadata": {},
     "output_type": "display_data"
    }
   ],
   "source": [
    "#Create violin plot\n",
    "paid_users = data[data['paid'] == True]\n",
    "\n",
    "sns.violinplot(x=\"VARIANT_NAME\", y=\"REVENUE\", data=paid_users, inner=\"box\", cut=2, linewidth=3)\n",
    "sns.pointplot(x=\"VARIANT_NAME\", y=\"REVENUE\", data=paid_users, estimator=np.median, color='k')\n",
    "#plt.yscale('log'), I decide  ylog-scale is optional"
   ]
  },
  {
   "cell_type": "code",
   "execution_count": 20,
   "id": "e57e5f50-529c-4028-98fa-dbab6425471e",
   "metadata": {
    "id": "e57e5f50-529c-4028-98fa-dbab6425471e"
   },
   "outputs": [],
   "source": [
    "control_revenue = paid_users[paid_users['VARIANT_NAME'] == 'control']['REVENUE']\n",
    "variant_revenue = paid_users[paid_users['VARIANT_NAME'] == 'variant']['REVENUE']"
   ]
  },
  {
   "cell_type": "markdown",
   "id": "cda2544a-928f-4f79-9c05-767682534d18",
   "metadata": {},
   "source": [
    "The violin plots shows the distribution of paid users revenue is very concentrated around near zero, but few users generate revenue > 50, even higher that 200"
   ]
  },
  {
   "cell_type": "markdown",
   "id": "bddc43a5-b689-4fa5-99e5-5024c7750659",
   "metadata": {},
   "source": [
    "#### 5b. Calculate conversion rate"
   ]
  },
  {
   "cell_type": "code",
   "execution_count": 21,
   "id": "413a9cc2-02bb-4afe-9b0b-46f278a45831",
   "metadata": {
    "id": "413a9cc2-02bb-4afe-9b0b-46f278a45831",
    "outputId": "f4e56fa9-2198-48e5-e6b9-a8873bb2f053"
   },
   "outputs": [
    {
     "name": "stdout",
     "output_type": "stream",
     "text": [
      "     Group  Conversion_Rate  Conversions  Total\n",
      "0  control           0.0161           80   4984\n",
      "1  variant           0.0144           72   5016\n"
     ]
    }
   ],
   "source": [
    "# Conversion rate by group\n",
    "conversion_rate = data.groupby('VARIANT_NAME')['paid'].agg(['mean','sum', 'count']).reset_index()\n",
    "conversion_rate.columns = ['Group','Conversion_Rate', 'Conversions', 'Total']\n",
    "print(conversion_rate)\n",
    "\n",
    "# conversion_rate = (# of users with REVENUE > 0) / (total users in group)"
   ]
  },
  {
   "cell_type": "markdown",
   "id": "cb4279b8-483b-490c-a64b-9341a5d0ee1f",
   "metadata": {
    "id": "cb4279b8-483b-490c-a64b-9341a5d0ee1f"
   },
   "source": [
    "\n",
    "#### 5c. A/B test using proportion Z-test"
   ]
  },
  {
   "cell_type": "code",
   "execution_count": 22,
   "id": "0b65e023-c290-4330-b1e1-f1a6538c55e4",
   "metadata": {
    "id": "0b65e023-c290-4330-b1e1-f1a6538c55e4",
    "outputId": "b85b2771-7262-4345-96ff-7f863650e4a6"
   },
   "outputs": [
    {
     "name": "stdout",
     "output_type": "stream",
     "text": [
      "Z-stat = 0.6936, p-value = 0.4879\n"
     ]
    }
   ],
   "source": [
    "from statsmodels.stats.proportion import proportions_ztest\n",
    "\n",
    "conversions = conversion_rate[\"Conversions\"]\n",
    "totals = conversion_rate[\"Total\"]\n",
    "\n",
    "# Run the test\n",
    "z_stat, p_value = proportions_ztest(count=conversions, nobs=totals, alternative='two-sided')\n",
    "print(f\"Z-stat = {z_stat:.4f}, p-value = {p_value:.4f}\")"
   ]
  },
  {
   "cell_type": "code",
   "execution_count": 23,
   "id": "de6e4b06-80ea-476e-8bc5-e1c81e92f016",
   "metadata": {
    "id": "de6e4b06-80ea-476e-8bc5-e1c81e92f016",
    "outputId": "265a0ba5-6d92-4bff-c386-0aebc6555287"
   },
   "outputs": [
    {
     "name": "stdout",
     "output_type": "stream",
     "text": [
      "Fail to reject the null: No significant difference detected of conversion rate between group and the difference occur by chance.\n"
     ]
    }
   ],
   "source": [
    "if p_value < alpha:\n",
    "    print(\"Reject the null hypothesis: There is a significant difference of conversion rate between group and does not occur by chance.\")\n",
    "else:\n",
    "    print(\"Fail to reject the null: No significant difference detected of conversion rate between group and the difference occur by chance.\")"
   ]
  },
  {
   "cell_type": "markdown",
   "id": "cb2421f1-e23c-48f1-9a7f-3836a63a4246",
   "metadata": {
    "id": "cb2421f1-e23c-48f1-9a7f-3836a63a4246"
   },
   "source": [
    "**Because p > alpha the conclusion is fail to reject null hypothesis, there’s no strong statistical evidence to conclude that conversion rate differs significantly between control and variant users group.**  \n",
    "\n",
    "\n",
    "*However, is it confirmed that the difference between group is not worth acting on based on the effect size?*  \n",
    "For proportion Z-Test, I use this test to answer above question:\n",
    "1. Absolute difference (p2 − p1) → in percentage points.\n",
    "2. Relative difference (relative lift) = (p2 − p1) / p1.\n",
    "3. Cohen’s h → standardized measure for comparing two proportions."
   ]
  },
  {
   "cell_type": "markdown",
   "id": "79bc0b38-b711-44f3-ae69-77f1de1691af",
   "metadata": {},
   "source": [
    "Thresholds (Cohen, 1988):  \n",
    "|h| ≈ 0.20 → small effect  \n",
    "|h| ≈ 0.50 → medium effect  \n",
    "|h| ≈ 0.80 → large effect  \n",
    "\n",
    "Anything < 0.10 is basically noise (negligible)."
   ]
  },
  {
   "cell_type": "code",
   "execution_count": 24,
   "id": "4769550b-32ae-4286-8cd0-883046934567",
   "metadata": {},
   "outputs": [],
   "source": [
    "# Conversion counts from dataset\n",
    "c1, n1 = conversions[0], totals[0] # control: conversions, total\n",
    "c2, n2 = conversions[1], totals[1] # variant: conversions, total\n",
    "\n",
    "p1 = c1 / n1\n",
    "p2 = c2 / n2\n",
    "abs_diff = p2 - p1\n",
    "rel_lift = (abs_diff / p1) if p1 != 0 else float('nan')\n",
    "\n",
    "# Cohen's h for proportions\n",
    "import math\n",
    "h = 2 * math.asin(math.sqrt(p2)) - 2 * math.asin(math.sqrt(p1))"
   ]
  },
  {
   "cell_type": "code",
   "execution_count": 25,
   "id": "0eceb8cb-0216-445a-86d6-e7d7b802a4e3",
   "metadata": {},
   "outputs": [
    {
     "name": "stdout",
     "output_type": "stream",
     "text": [
      "=== Conversion (control vs variant) - Summary ===\n",
      "N_control = 4984 N_variant = 5016 \n",
      "Conversions control = 80 variant = 72\n",
      "control p1 = 0.016051 (1.6051%)\n",
      "variant p2 = 0.014354 (1.4354%)\n",
      "absolute difference (variant - control) = -0.001697 (-0.1697 percentage points)\n",
      "relative lift = -10.57%\n",
      "Cohen's h = -0.013877 ~ -0.014\n"
     ]
    }
   ],
   "source": [
    "print(\"=== Conversion (control vs variant) - Summary ===\")\n",
    "print(\"N_control =\", n1, \"N_variant =\", n2, \"\\nConversions control =\", c1, \"variant =\", c2)\n",
    "print(f\"control p1 = {p1:.6f} ({p1*100:.4f}%)\")\n",
    "print(f\"variant p2 = {p2:.6f} ({p2*100:.4f}%)\")\n",
    "print(f\"absolute difference (variant - control) = {abs_diff:.6f} ({abs_diff*100:.4f} percentage points)\")\n",
    "print(f\"relative lift = {rel_lift*100:.2f}%\")\n",
    "print(f\"Cohen's h = {h:.6f} ~ {h:.3f}\")"
   ]
  },
  {
   "cell_type": "code",
   "execution_count": 26,
   "id": "a311c53c-cbe5-4281-b100-77fe7d9166ab",
   "metadata": {},
   "outputs": [],
   "source": [
    "from statsmodels.stats.power import NormalIndPower\n",
    "from statsmodels.stats.proportion import proportion_effectsize\n",
    "\n",
    "power = 0.8 # desired power\n",
    "analysis = NormalIndPower() # Power analysis object\n",
    "\n",
    "# mde effect size\n",
    "effect_size_needed = analysis.solve_power(\n",
    "    effect_size=None,\n",
    "    nobs1=n1,\n",
    "    alpha=alpha,\n",
    "    power=power, \n",
    "    ratio=n2/n1,\n",
    "    alternative='two-sided')\n",
    "\n",
    "def cohens_h_to_proportions(h, p1):\n",
    "    return (np.sin(h / 2 + np.arcsin(np.sqrt(p1))))**2"
   ]
  },
  {
   "cell_type": "code",
   "execution_count": 27,
   "id": "9c9148a3-8cb4-4abc-be5a-f046e094ece0",
   "metadata": {},
   "outputs": [
    {
     "name": "stdout",
     "output_type": "stream",
     "text": [
      "Baseline rate: 1.61%\n",
      "MDE (with current N, 80% power, α=0.05): 0.78 percentage points\n",
      "Required Cohen's h: 0.0560\n",
      "Observed Cohen's h: 0.0139\n",
      "Required number sample: 81518\n"
     ]
    }
   ],
   "source": [
    "# Calculate MDE in percentage points\n",
    "p2_needed = cohens_h_to_proportions(effect_size_needed, p1)\n",
    "mde_pp = abs(p2_needed - p1) * 100\n",
    "\n",
    "# Also calculate actual Cohen's h for observed p1 vs p2 (optional)\n",
    "observed_p2 = p2\n",
    "h_observed = proportion_effectsize(p1, observed_p2)\n",
    "\n",
    "required_n = analysis.solve_power(effect_size=proportion_effectsize(p1, p2), # Calculate absolute effect size in Cohen's h\n",
    "                                  alpha=alpha, power=power, ratio=1.0, alternative='two-sided')\n",
    "\n",
    "# Output\n",
    "print(f\"Baseline rate: {p1*100:.2f}%\")\n",
    "print(f\"MDE (with current N, 80% power, α=0.05): {mde_pp:.2f} percentage points\")\n",
    "print(f\"Required Cohen's h: {effect_size_needed:.4f}\")\n",
    "print(f\"Observed Cohen's h: {h_observed:.4f}\")\n",
    "print(f\"Required number sample: {required_n:.0f}\")"
   ]
  },
  {
   "cell_type": "markdown",
   "id": "97501952-1697-473d-bddd-867b8dea0024",
   "metadata": {},
   "source": [
    "The Cohen’s h\n",
    ", which measures the difference between two proportions on a standardized scale is so small almost negligible.  Meaning the observed lift between control and variant conversion rates is minuscule. Since both Cohen's h and observed cohen's h (0.0139) < required cohen's (0,056), the sample size is underpowered for this observed difference with 80% power.\n",
    "\n",
    "Required_n = 81,518 per group -> This is how many samples needed in each group to reliably detect an effect of that small size with 5% significance level & power of 0.8 (80% chance of detecting it if it’s real)  \n",
    "In other words, I currently have ~5,000 per group **which would need over 16× more data to have a decent chance of finding that tiny effect significant.**\n",
    "\n",
    "The actual absolute difference in conversion rate between control (1.61%) and variant (1.43%) = 0.18 percentage points. Much smaller than MDE (0,78), so it’s no surprise result of p-value wasn’t significant (> 5%) & CI straddled zero"
   ]
  },
  {
   "cell_type": "code",
   "execution_count": 28,
   "id": "1d7fde6c-0036-45a1-884f-13404e985565",
   "metadata": {},
   "outputs": [
    {
     "data": {
      "image/png": "[encoded data removed]",
      "text/plain": [
       "<Figure size 800x500 with 1 Axes>"
      ]
     },
     "metadata": {},
     "output_type": "display_data"
    }
   ],
   "source": [
    "# Parameters from your dataset\n",
    "baseline_rate = p1\n",
    "\n",
    "# Sample sizes to try (per group)\n",
    "sample_sizes = np.arange(500, 20001, 500)\n",
    "\n",
    "# Calculate MDE (absolute percentage points) for each sample size\n",
    "mde_pp = []\n",
    "for n in sample_sizes:\n",
    "    # Find effect size (Cohen's h) given power and sample size\n",
    "    effect_size = analysis.solve_power(\n",
    "        effect_size=None,\n",
    "        nobs1=n,\n",
    "        alpha=alpha,\n",
    "        power=power,\n",
    "        ratio=1.0,\n",
    "        alternative='two-sided')\n",
    "    # Convert Cohen's h back to absolute difference in proportions\n",
    "    p_variant = np.sin(effect_size / 2 + np.arcsin(np.sqrt(baseline_rate)))**2\n",
    "    diff_pp = abs(p_variant - baseline_rate) * 100  # in percentage points\n",
    "    mde_pp.append(diff_pp)\n",
    "\n",
    "# Plot\n",
    "plt.figure(figsize=(8,5))\n",
    "plt.plot(sample_sizes, mde_pp, label='MDE (absolute pp)', color='blue')\n",
    "plt.axvline(x=4984, color='red', linestyle='--', label='sample size')\n",
    "plt.axhline(y=mde_pp[np.where(sample_sizes == 5000)[0][0]], color='green', linestyle='--')\n",
    "\n",
    "plt.title('Minimum Detectable Effect vs Sample Size', fontsize=14)\n",
    "plt.xlabel('Sample Size per Group', fontsize=12)\n",
    "plt.ylabel('MDE (percentage points)', fontsize=12)\n",
    "plt.legend()\n",
    "plt.grid(True)\n",
    "plt.show()"
   ]
  },
  {
   "cell_type": "markdown",
   "id": "77bb0e02-9a1e-4191-9bfd-60dc2d91a730",
   "metadata": {},
   "source": [
    "**Result interpretation:**\n",
    "1. Control conversion p1 = 80 / 4984 ≈ 0.016051 → 1.6051%\n",
    "2. Variant conversion p2 = 72 / 5016 ≈ 0.014354 → 1.4354%\n",
    "3. Absolute difference (variant − control) = d ≈ −0.001697 → −0.1697 percentage points (pp).  \n",
    "   Variant’s conversion is about 0.17 pp lower than control in the sample.\n",
    "5. Relative difference (lift) = −0.1057 → −10.6%.  \n",
    "Variant has about a 10.6% **lower conversion rate relative to control**.\n",
    "6. Cohen’s h = −0.0139 ~ -0,014 (very small). This means even if the drop were real, it’s too small to matter for most decisions.\n",
    "7. I would need over 16× more data (81.518 per group) to have a decent chance of finding that tiny effect significant"
   ]
  },
  {
   "cell_type": "markdown",
   "id": "2921b464-04e8-4d14-a7fe-d2504afdd537",
   "metadata": {},
   "source": [
    "If this were a real business experiment, there are several choices can be called:\n",
    "1. Increase N massively → run the test longer, get ~81k users per group.\n",
    "2. Accept lower power → risk missing the effect (more false negatives).\n",
    "3. Stop testing → if the effect is too small to matter financially, it’s not worth chasing."
   ]
  },
  {
   "cell_type": "markdown",
   "id": "24001564-0f4b-49de-9577-d726b253ad56",
   "metadata": {},
   "source": [
    "****"
   ]
  },
  {
   "cell_type": "markdown",
   "id": "dfd498ec-b243-48a4-8dc3-ebdef72a26c2",
   "metadata": {
    "id": "dfd498ec-b243-48a4-8dc3-ebdef72a26c2"
   },
   "source": [
    "\n",
    "#### 5d. A/B test using Mann Whitney U Test"
   ]
  },
  {
   "cell_type": "code",
   "execution_count": 29,
   "id": "4bcf4f5e-d44e-4776-b08d-48fb15ffab87",
   "metadata": {
    "id": "4bcf4f5e-d44e-4776-b08d-48fb15ffab87"
   },
   "outputs": [],
   "source": [
    "from scipy.stats import mannwhitneyu"
   ]
  },
  {
   "cell_type": "code",
   "execution_count": 30,
   "id": "26a03d19-eb7c-47f7-b29f-ae9e085f3d1a",
   "metadata": {
    "id": "26a03d19-eb7c-47f7-b29f-ae9e085f3d1a",
    "outputId": "f2dc0eed-dc93-44b4-8d51-7dbe8cb03a2b"
   },
   "outputs": [
    {
     "name": "stdout",
     "output_type": "stream",
     "text": [
      "     Group  Count  Mean_Revenue  Median_Revenue\n",
      "0  control     80        8.0375            2.96\n",
      "1  variant     72        4.8815            2.17\n"
     ]
    }
   ],
   "source": [
    "revenue_summary = paid_users.groupby('VARIANT_NAME')['REVENUE'].agg(['count', 'mean', 'median']).reset_index()\n",
    "revenue_summary.columns = ['Group', 'Count', 'Mean_Revenue', 'Median_Revenue']\n",
    "print(revenue_summary)"
   ]
  },
  {
   "cell_type": "code",
   "execution_count": 31,
   "id": "86e8dcf6-f392-4799-94c3-9d5362576e9f",
   "metadata": {
    "id": "86e8dcf6-f392-4799-94c3-9d5362576e9f",
    "outputId": "ecd49747-48dd-4d56-e244-62c60c988b01"
   },
   "outputs": [
    {
     "name": "stdout",
     "output_type": "stream",
     "text": [
      "Mann-Whitney context: paying control = 80 variant = 72\n"
     ]
    }
   ],
   "source": [
    "stat, mw_p = mannwhitneyu(control_revenue, variant_revenue, alternative='two-sided')\n",
    "\n",
    "print(\"Mann-Whitney context: paying control =\", len(control_revenue), \"variant =\", len(variant_revenue))"
   ]
  },
  {
   "cell_type": "code",
   "execution_count": 32,
   "id": "e0377665-78c5-4211-b1ee-88e9867b1f33",
   "metadata": {
    "id": "e0377665-78c5-4211-b1ee-88e9867b1f33",
    "outputId": "c3576ef8-ed88-4670-8454-b32b51206c4b"
   },
   "outputs": [
    {
     "name": "stdout",
     "output_type": "stream",
     "text": [
      "Fail to reject the null: No significant difference detected of revenue between paying users and the difference occur by chance.\n"
     ]
    }
   ],
   "source": [
    "if mw_p < alpha:\n",
    "    print(\"Reject the null hypothesis: There is a significant difference revenue between paying users and does not occur by chance.\")\n",
    "else:\n",
    "    print(\"Fail to reject the null: No significant difference detected of revenue between paying users and the difference occur by chance.\")"
   ]
  },
  {
   "cell_type": "markdown",
   "id": "f743b693-52d7-4366-adab-2d6703f6ab38",
   "metadata": {},
   "source": [
    "**Because p > alpha the conclusion is fail to reject null hypothesis, there’s no strong statistical evidence to conclude that revenue between paying users control and variant group differs significantly**\n",
    "\n",
    "However, is it confirmed that the difference between group is not worth acting on based on the effect size?  \n",
    "For Mann-Whitney, I use Rank-biserial effect size to answer above question:"
   ]
  },
  {
   "cell_type": "code",
   "execution_count": 33,
   "id": "39158703-026c-44a5-b432-ade765c13867",
   "metadata": {},
   "outputs": [
    {
     "name": "stdout",
     "output_type": "stream",
     "text": [
      "\n",
      "=== Revenue among paying users (Mann-Whitney effect) ===\n",
      "Mann-Whitney: paying users control = 80 & variant = 72\n",
      "Observed U = 3356.0 p = 0.07924299810603058\n",
      "U (for control) = 3356.0\n",
      "rank-biserial = -0.165278, negative means effect size of variant > control (if passed control first to mannwhitneyu syntax)\n"
     ]
    }
   ],
   "source": [
    "# Mann-Whitney rank-biserial from U (use the U you got for control)\n",
    "n1 = len(control_revenue)\n",
    "n2 = len(variant_revenue)\n",
    "U = stat\n",
    "# rank-biserial:\n",
    "rank_biserial = 1 - (2*U)/(n1*n2)\n",
    "\n",
    "print(\"\\n=== Revenue among paying users (Mann-Whitney effect) ===\")\n",
    "print(\"Mann-Whitney: paying users control =\", n1, \"& variant =\", n2)\n",
    "print(\"Observed U =\", U, \"p =\", mw_p)\n",
    "print(f\"U (for control) = {U}\")\n",
    "print(f\"rank-biserial = {rank_biserial:.6f}, negative means effect size of variant > control (if passed control first to mannwhitneyu syntax)\")"
   ]
  },
  {
   "cell_type": "markdown",
   "id": "d5799a13-3065-423d-b308-b8d57ff4ae7d",
   "metadata": {},
   "source": [
    "**Result Interpretation**  \n",
    "Mann–Whitney’s U tells whether ranks differ,  \n",
    "but I also want a standardized effect size: using rank-biserial one common, interpretable measure. It ranges roughly from −1 to +1:\n",
    "1. Positive → group 1 tends to have higher values.\n",
    "2. Negative → group 2 tends to have higher values.\n",
    "3. Magnitude interpretation is context-dependent: ~0.1 small, 0.3 medium, 0.5 large (very rough).\n",
    "\n",
    "Negative value (−0.165) means the variant tended to have higher ranks (higher revenue) than control.  \n",
    "**This means although fewer people in variant converted (conversion metric), among those who did convert variant payers tended to spend slightly more and but the difference magnitude is modest**."
   ]
  },
  {
   "cell_type": "code",
   "execution_count": 34,
   "id": "9d4b27e0-1f8e-4d01-a901-5e62207f030d",
   "metadata": {},
   "outputs": [
    {
     "name": "stdout",
     "output_type": "stream",
     "text": [
      "paying users: control = 80 , variant = 72\n"
     ]
    }
   ],
   "source": [
    "# Filter to only paying users\n",
    "ctrl = control_revenue.to_numpy()\n",
    "var  = variant_revenue.to_numpy()\n",
    "print(\"paying users: control =\", len(ctrl), \", variant =\", len(var))"
   ]
  },
  {
   "cell_type": "code",
   "execution_count": 35,
   "id": "77cf7bc0-ab82-4e23-b6be-f1ff49639277",
   "metadata": {},
   "outputs": [
    {
     "name": "stdout",
     "output_type": "stream",
     "text": [
      "Observed median (variant - control): -0.790\n",
      "95% bootstrap CI for median revenue difference among payers: [-1.730, 0.530]\n",
      "Approx bootstrap p-value (two-sided): 0.4030\n"
     ]
    },
    {
     "data": {
      "image/png": "[encoded data removed]",
      "text/plain": [
       "<Figure size 800x400 with 1 Axes>"
      ]
     },
     "metadata": {},
     "output_type": "display_data"
    }
   ],
   "source": [
    "boot_diffs = []\n",
    "\n",
    "# observed statistic (report this)\n",
    "obs_diff = np.median(var) - np.median(ctrl)\n",
    "print(f\"Observed median (variant - control): {obs_diff:.3f}\")\n",
    "\n",
    "# bootstrap for loop\n",
    "for i in range(n_boot):\n",
    "    boot_control = rng.choice(ctrl, size=len(ctrl), replace=True)\n",
    "    boot_variant = rng.choice(var, size=len(var), replace=True)\n",
    "    diff = np.median(boot_variant) - np.median(boot_control)\n",
    "    boot_diffs.append(diff)\n",
    "\n",
    "# Compute CI\n",
    "ci_lower, ci_upper = np.percentile(boot_diffs, [2.5, 97.5])\n",
    "print(f\"95% bootstrap CI for median revenue difference among payers: [{ci_lower:.3f}, {ci_upper:.3f}]\")\n",
    "\n",
    "# Approximate bootstrap p-value (two-sided)\n",
    "# proportion of bootstrap diffs as or more extreme than observed (symmetrical method)\n",
    "p_hat = np.mean(np.abs(boot_diffs) >= np.abs(obs_diff))\n",
    "print(f\"Approx bootstrap p-value (two-sided): {p_hat:.4f}\")\n",
    "\n",
    "# Visualization\n",
    "plt.figure(figsize=(8,4))\n",
    "sns.histplot(boot_diffs, bins=50, kde=True)\n",
    "plt.axvline(ci_lower, color='red', linestyle='--', label=f'95% CI lower={ci_lower:.3f}')\n",
    "plt.axvline(ci_upper, color='red', linestyle='--', label=f'95% CI upper={ci_upper:.3f}')\n",
    "plt.axvline(obs_diff, color='black', linewidth=2, label=f'Observed diff={obs_diff:.3f}')\n",
    "plt.title('Bootstrap distribution of median(variant) - median(control)')\n",
    "plt.xlabel('Median difference ($)')\n",
    "plt.legend()\n",
    "plt.tight_layout()\n",
    "plt.show()"
   ]
  },
  {
   "cell_type": "markdown",
   "id": "1c2cf3f2-11b0-4c0d-8193-4c69fe073b95",
   "metadata": {},
   "source": [
    "The p-value (-0.790) is within the CI range (-1.730, 0.530) and the CI includes 0, it means revenue difference might be positive or negative **inconclusive whether the variant paying user boost relative more revenue**.\n",
    "The result does support the Mann-Whitney U hypothesis test that there is no statistical difference of revenue among paying user. "
   ]
  },
  {
   "cell_type": "markdown",
   "id": "6e1553e0-d74c-41d3-944b-68592a1f5138",
   "metadata": {
    "id": "6e1553e0-d74c-41d3-944b-68592a1f5138"
   },
   "source": [
    "### **6. Conclusion**"
   ]
  },
  {
   "cell_type": "markdown",
   "id": "a84b9413-8d06-4da1-9ed4-84d00b85a729",
   "metadata": {},
   "source": [
    "There is no any supporting evidence that using variant enhancement or improvement generating more revenue since both Proportion Z-Test and Mann-Whitney U Test fail to reject the null hypotheses that states there is no difference in revenue between control and variant. From effect size test result, both test tell there is no enough magnitude difference to call action that worth the notice. Bootstrapping the median revenue CI for both group also support that there is inconclusive whether the variant group revenu differs significantly. \n",
    "\n",
    "Here is the final conclusion:\n",
    "***Without statistical or business impact, there's no justification for further investment in this variant.***"
   ]
  },
  {
   "cell_type": "code",
   "execution_count": 36,
   "id": "c2c0f033-7ff9-40c0-a95d-8e601608d4c6",
   "metadata": {},
   "outputs": [
    {
     "name": "stdout",
     "output_type": "stream",
     "text": [
      "Summary saved: results/ab_test_summary.csv\n",
      "Summary stats: {'conversion_z_stat': np.float64(0.6936332570474268), 'conversion_p_value': np.float64(0.4879122318708867), 'conversion_diff': -0.0016972973803251728, 'conversion_diff_CI': (-0.0064940800407557, 0.0030994852801053546), 'mannwhitney_U': np.float64(3356.0), 'mannwhitney_p': np.float64(0.07924299810603058), 'rank_biserial': np.float64(-0.16527777777777786), 'ctrl_median_ci': (np.float64(2.17), np.float64(3.79)), 'var_median_ci': (np.float64(1.51), np.float64(2.975))}\n",
      "Slide text saved to: results/slide_summary.txt\n",
      "\n",
      "Slide text preview:\n",
      "\n",
      "\n",
      "AB Test Summary (Control vs Variant)\n",
      "------------------------------------\n",
      "N (control) = 4984, N (variant) = 5016\n",
      "Paying users: control = 80, variant = 72\n",
      "\n",
      "Conversion rate: control = 1.6051%, variant = 1.4354%\n",
      "Conversion two-prop z-test: z = 0.6936, p = 0.4879\n",
      "Difference in proportions (variant - control) = -0.1697%, 95% CI [-0.6494%, 0.3099%]\n",
      "\n",
      "Revenue (paying users) — Mann-Whitney U: U = 3356.0, p = 0.0792\n",
      "Median revenue (paying users): control median CI = [2.17, 3.79], variant median CI = [1.51, 2.98]\n",
      "Rank-biserial effect size = -0.1653\n",
      "\n"
     ]
    }
   ],
   "source": [
    "# === Final summary and export for PPT / README ===\n",
    "from statsmodels.stats.proportion import proportions_ztest\n",
    "from scipy.stats import mannwhitneyu\n",
    "\n",
    "# Ensure 'data' is loaded and 'paid' column exists\n",
    "assert 'data' in globals(), \"Load dataset into `data` first.\"\n",
    "if 'paid' not in data.columns:\n",
    "    data['paid'] = data['REVENUE'] > 0\n",
    "\n",
    "# Basic group counts\n",
    "group_counts = data['VARIANT_NAME'].value_counts().to_dict()\n",
    "paid_counts = data.groupby('VARIANT_NAME')['paid'].sum().to_dict()\n",
    "\n",
    "# conversion rates\n",
    "conv_df = data.groupby('VARIANT_NAME')['paid'].agg(['sum','count']).reset_index()\n",
    "conv_df.columns = ['Group','Conversions','Total']\n",
    "conv_df['Conversion_Rate'] = conv_df['Conversions'] / conv_df['Total']\n",
    "\n",
    "# ARPU / AOV / Median among payers\n",
    "overall_avg = data.groupby(\"VARIANT_NAME\")[\"REVENUE\"].mean()\n",
    "paid_only = data[data[\"REVENUE\"]>0]\n",
    "paid_stats = paid_only.groupby(\"VARIANT_NAME\")[\"REVENUE\"].agg(['count','mean','median']).rename(columns={'count':'Paying_Count'})\n",
    "\n",
    "# z-test for proportions (conversion)\n",
    "conversions = conv_df['Conversions'].tolist()\n",
    "totals = conv_df['Total'].tolist()\n",
    "z_stat, p_value = proportions_ztest(count=conversions, nobs=totals, alternative='two-sided')\n",
    "prop_diff, ci_low, ci_high = prop_diff_ci(conversions, totals)\n",
    "\n",
    "# Mann-Whitney among payers\n",
    "ctrl = paid_only[paid_only['VARIANT_NAME']=='control']['REVENUE']\n",
    "var  = paid_only[paid_only['VARIANT_NAME']=='variant']['REVENUE']\n",
    "if len(ctrl)==0 or len(var)==0:\n",
    "    mw_stat, mw_p = (np.nan, np.nan)\n",
    "else:\n",
    "    mw_stat, mw_p = mannwhitneyu(ctrl, var, alternative='two-sided')\n",
    "# rank-biserial\n",
    "rbs = rank_biserial_from_U(mw_stat, len(ctrl), len(var)) if not np.isnan(mw_stat) else np.nan\n",
    "\n",
    "# bootstrap medians\n",
    "ctrl_median_ci = bootstrap_median_ci(ctrl, n_boot, alpha, rng)\n",
    "var_median_ci  = bootstrap_median_ci(var, n_boot, alpha, seed)\n",
    "\n",
    "# Build summary DataFrame\n",
    "summary = pd.DataFrame({\n",
    "    'Group': ['control','variant'],\n",
    "    'Total Users': [group_counts.get('control',0), group_counts.get('variant',0)],\n",
    "    'Paying Users': [paid_counts.get('control',0), paid_counts.get('variant',0)],\n",
    "    'Conversion Rate': [overall_avg.get('control',0), overall_avg.get('variant',0)],  # placeholder - will overwrite\n",
    "})\n",
    "\n",
    "# fix conversion rate cells properly (from conv_df)\n",
    "for i,row in conv_df.iterrows():\n",
    "    summary.loc[summary['Group']==row['Group'], 'Conversion Rate'] = row['Conversion_Rate']\n",
    "\n",
    "# attach paying-user stats\n",
    "for idx, r in paid_stats.reset_index().iterrows():\n",
    "    grp = r['VARIANT_NAME']\n",
    "    summary.loc[summary['Group']==grp, 'Paying_Mean'] = r['mean']\n",
    "    summary.loc[summary['Group']==grp, 'Paying_Median'] = r['median']\n",
    "\n",
    "# Add test results\n",
    "summary_stats = {\n",
    "    'conversion_z_stat': z_stat,\n",
    "    'conversion_p_value': p_value,\n",
    "    'conversion_diff': prop_diff,\n",
    "    'conversion_diff_CI': (ci_low, ci_high),\n",
    "    'mannwhitney_U': mw_stat,\n",
    "    'mannwhitney_p': mw_p,\n",
    "    'rank_biserial': rbs,\n",
    "    'ctrl_median_ci': ctrl_median_ci,\n",
    "    'var_median_ci': var_median_ci\n",
    "}\n",
    "\n",
    "# Save summary\n",
    "summary_path = os.path.join(RESULTS_DIR, \"ab_test_summary.csv\")\n",
    "summary.to_csv(summary_path, index=False)\n",
    "with open(os.path.join(RESULTS_DIR, \"ab_test_summary.json\"), \"w\") as f:\n",
    "    json.dump({'summary_table': summary.to_dict(orient='records'), 'summary_stats': summary_stats}, f, indent=2)\n",
    "\n",
    "print(\"Summary saved:\", summary_path)\n",
    "print(\"Summary stats:\", summary_stats)\n",
    "\n",
    "# Prepare a short text snippet for the final slide (copy this into PPT)\n",
    "slide_text = f\"\"\"\n",
    "AB Test Summary (Control vs Variant)\n",
    "------------------------------------\n",
    "N (control) = {group_counts.get('control',0)}, N (variant) = {group_counts.get('variant',0)}\n",
    "Paying users: control = {paid_counts.get('control',0)}, variant = {paid_counts.get('variant',0)}\n",
    "\n",
    "Conversion rate: control = {conv_df.loc[conv_df.Group=='control','Conversion_Rate'].values[0]:.4%}, variant = {conv_df.loc[conv_df.Group=='variant','Conversion_Rate'].values[0]:.4%}\n",
    "Conversion two-prop z-test: z = {z_stat:.4f}, p = {p_value:.4f}\n",
    "Difference in proportions (variant - control) = {prop_diff:.4%}, 95% CI [{ci_low:.4%}, {ci_high:.4%}]\n",
    "\n",
    "Revenue (paying users) — Mann-Whitney U: U = {mw_stat}, p = {mw_p:.4f}\n",
    "Median revenue (paying users): control median CI = [{ctrl_median_ci[0]:.2f}, {ctrl_median_ci[1]:.2f}], variant median CI = [{var_median_ci[0]:.2f}, {var_median_ci[1]:.2f}]\n",
    "Rank-biserial effect size = {rbs:.4f}\n",
    "\"\"\"\n",
    "\n",
    "# save slide text to file\n",
    "with open(os.path.join(RESULTS_DIR,\"slide_summary.txt\"), \"w\") as f:\n",
    "    f.write(slide_text)\n",
    "\n",
    "print(\"Slide text saved to:\", os.path.join(RESULTS_DIR,\"slide_summary.txt\"))\n",
    "print(\"\\nSlide text preview:\\n\")\n",
    "print(slide_text)"
   ]
  }
 ],
 "metadata": {
  "colab": {
   "provenance": []
  },
  "kernelspec": {
   "display_name": "Python 3 (ipykernel)",
   "language": "python",
   "name": "python3"
  },
  "language_info": {
   "codemirror_mode": {
    "name": "ipython",
    "version": 3
   },
   "file_extension": ".py",
   "mimetype": "text/x-python",
   "name": "python",
   "nbconvert_exporter": "python",
   "pygments_lexer": "ipython3",
   "version": "3.13.5"
  }
 },
 "nbformat": 4,
 "nbformat_minor": 5
}
